{
 "cells": [
  {
   "cell_type": "code",
   "execution_count": 3,
   "id": "2fe496ca",
   "metadata": {},
   "outputs": [],
   "source": [
    "import pulp as p "
   ]
  },
  {
   "cell_type": "code",
   "execution_count": 8,
   "id": "44ce461f",
   "metadata": {},
   "outputs": [],
   "source": [
    "Lp_prob = p.LpProblem('Optimizaction_with_pulp', p.LpMinimize)"
   ]
  },
  {
   "cell_type": "code",
   "execution_count": 9,
   "id": "398ef164",
   "metadata": {},
   "outputs": [
    {
     "data": {
      "text/plain": [
       "Optimizaction_with_pulp:\n",
       "MINIMIZE\n",
       "None\n",
       "VARIABLES"
      ]
     },
     "execution_count": 9,
     "metadata": {},
     "output_type": "execute_result"
    }
   ],
   "source": [
    "Lp_prob"
   ]
  },
  {
   "cell_type": "code",
   "execution_count": 10,
   "id": "7d34ae6e",
   "metadata": {},
   "outputs": [],
   "source": [
    "x=p.LpVariable('x',lowBound=0)\n",
    "y=p.LpVariable('y',lowBound=0)"
   ]
  },
  {
   "cell_type": "code",
   "execution_count": 19,
   "id": "2bff995d",
   "metadata": {},
   "outputs": [
    {
     "name": "stderr",
     "output_type": "stream",
     "text": [
      "C:\\Users\\Dell\\anaconda3\\lib\\site-packages\\pulp\\pulp.py:1668: UserWarning: Overwriting previously set objective.\n",
      "  warnings.warn(\"Overwriting previously set objective.\")\n"
     ]
    }
   ],
   "source": [
    "Lp_prob += 3*x+5*y\n",
    "Lp_prob += 2*x+3*y>=12\n",
    "Lp_prob += -x +y <=3\n",
    "Lp_prob += x>=4\n",
    "Lp_prob += y<=3"
   ]
  },
  {
   "cell_type": "code",
   "execution_count": 20,
   "id": "2cc33115",
   "metadata": {},
   "outputs": [
    {
     "data": {
      "text/plain": [
       "Optimizaction_with_pulp:\n",
       "MINIMIZE\n",
       "3*x + 5*y + 0\n",
       "SUBJECT TO\n",
       "_C1: 2 x + 3 y >= 12\n",
       "\n",
       "_C2: - x + y <= 3\n",
       "\n",
       "_C3: 2 x + 3 y >= 12\n",
       "\n",
       "_C4: - x + y <= 3\n",
       "\n",
       "_C5: x >= 4\n",
       "\n",
       "_C6: y <= 3\n",
       "\n",
       "_C7: 2 x + 3 y >= 12\n",
       "\n",
       "_C8: - x + y <= 3\n",
       "\n",
       "_C9: x >= 4\n",
       "\n",
       "_C10: y <= 3\n",
       "\n",
       "VARIABLES\n",
       "x Continuous\n",
       "y Continuous"
      ]
     },
     "execution_count": 20,
     "metadata": {},
     "output_type": "execute_result"
    }
   ],
   "source": [
    "Lp_prob"
   ]
  },
  {
   "cell_type": "code",
   "execution_count": 21,
   "id": "74653243",
   "metadata": {},
   "outputs": [
    {
     "data": {
      "text/plain": [
       "1"
      ]
     },
     "execution_count": 21,
     "metadata": {},
     "output_type": "execute_result"
    }
   ],
   "source": [
    "Lp_prob.solve()"
   ]
  },
  {
   "cell_type": "code",
   "execution_count": 22,
   "id": "7ffa9035",
   "metadata": {},
   "outputs": [
    {
     "data": {
      "text/plain": [
       "'Optimal'"
      ]
     },
     "execution_count": 22,
     "metadata": {},
     "output_type": "execute_result"
    }
   ],
   "source": [
    "p.LpStatus[Lp_prob.solve()]"
   ]
  },
  {
   "cell_type": "code",
   "execution_count": 23,
   "id": "d53e265b",
   "metadata": {},
   "outputs": [
    {
     "data": {
      "text/plain": [
       "0.0"
      ]
     },
     "execution_count": 23,
     "metadata": {},
     "output_type": "execute_result"
    }
   ],
   "source": [
    "p.value(y)"
   ]
  },
  {
   "cell_type": "code",
   "execution_count": 24,
   "id": "546fe822",
   "metadata": {},
   "outputs": [
    {
     "data": {
      "text/plain": [
       "18.0"
      ]
     },
     "execution_count": 24,
     "metadata": {},
     "output_type": "execute_result"
    }
   ],
   "source": [
    "p.value(Lp_prob.objective)"
   ]
  },
  {
   "cell_type": "code",
   "execution_count": 31,
   "id": "ce4c7b2e",
   "metadata": {
    "code_folding": []
   },
   "outputs": [
    {
     "name": "stdout",
     "output_type": "stream",
     "text": [
      "Collecting cvxpy\n",
      "  Using cached cvxpy-1.1.17-cp38-cp38-win_amd64.whl (852 kB)\n",
      "Collecting ecos>=2\n",
      "  Using cached ecos-2.0.7.post1.tar.gz (126 kB)\n",
      "  Preparing metadata (setup.py): started\n",
      "  Preparing metadata (setup.py): finished with status 'done'\n",
      "Collecting osqp>=0.4.1\n",
      "  Using cached osqp-0.6.2.post0-cp38-cp38-win_amd64.whl (162 kB)\n",
      "Collecting scs>=1.1.6\n",
      "  Using cached scs-2.1.4.tar.gz (6.6 MB)\n",
      "  Installing build dependencies: started\n",
      "  Installing build dependencies: finished with status 'done'\n",
      "  Getting requirements to build wheel: started\n",
      "  Getting requirements to build wheel: finished with status 'done'\n",
      "  Preparing metadata (pyproject.toml): started\n",
      "  Preparing metadata (pyproject.toml): finished with status 'done'\n",
      "Requirement already satisfied: scipy>=1.1.0 in c:\\users\\dell\\anaconda3\\lib\\site-packages (from cvxpy) (1.7.3)\n",
      "Requirement already satisfied: numpy>=1.15 in c:\\users\\dell\\anaconda3\\lib\\site-packages (from cvxpy) (1.19.5)\n",
      "Collecting qdldl\n",
      "  Using cached qdldl-0.1.5.post0-cp38-cp38-win_amd64.whl (74 kB)\n",
      "Building wheels for collected packages: ecos, scs\n",
      "  Building wheel for ecos (setup.py): started\n",
      "  Building wheel for ecos (setup.py): finished with status 'error'\n",
      "  Running setup.py clean for ecos\n",
      "  Building wheel for scs (pyproject.toml): started\n",
      "  Building wheel for scs (pyproject.toml): finished with status 'error'\n",
      "Failed to build ecos scs\n"
     ]
    },
    {
     "name": "stderr",
     "output_type": "stream",
     "text": [
      "WARNING: Ignoring invalid distribution -yproj (c:\\users\\dell\\anaconda3\\lib\\site-packages)\n",
      "WARNING: Ignoring invalid distribution -yproj (c:\\users\\dell\\anaconda3\\lib\\site-packages)\n",
      "  ERROR: Command errored out with exit status 1:\n",
      "   command: 'C:\\Users\\Dell\\anaconda3\\python.exe' -u -c 'import io, os, sys, setuptools, tokenize; sys.argv[0] = '\"'\"'C:\\\\Users\\\\Dell\\\\AppData\\\\Local\\\\Temp\\\\pip-install-_3mfwv_d\\\\ecos_3065445674734ee69cbd2641f673d9dd\\\\setup.py'\"'\"'; __file__='\"'\"'C:\\\\Users\\\\Dell\\\\AppData\\\\Local\\\\Temp\\\\pip-install-_3mfwv_d\\\\ecos_3065445674734ee69cbd2641f673d9dd\\\\setup.py'\"'\"';f = getattr(tokenize, '\"'\"'open'\"'\"', open)(__file__) if os.path.exists(__file__) else io.StringIO('\"'\"'from setuptools import setup; setup()'\"'\"');code = f.read().replace('\"'\"'\\r\\n'\"'\"', '\"'\"'\\n'\"'\"');f.close();exec(compile(code, __file__, '\"'\"'exec'\"'\"'))' bdist_wheel -d 'C:\\Users\\Dell\\AppData\\Local\\Temp\\pip-wheel-_x1d4mun'\n",
      "       cwd: C:\\Users\\Dell\\AppData\\Local\\Temp\\pip-install-_3mfwv_d\\ecos_3065445674734ee69cbd2641f673d9dd\\\n",
      "  Complete output (12 lines):\n",
      "  running bdist_wheel\n",
      "  running build\n",
      "  running build_py\n",
      "  creating build\n",
      "  creating build\\lib.win-amd64-3.8\n",
      "  creating build\\lib.win-amd64-3.8\\ecos\n",
      "  copying src\\ecos\\ecos.py -> build\\lib.win-amd64-3.8\\ecos\n",
      "  copying src\\ecos\\version.py -> build\\lib.win-amd64-3.8\\ecos\n",
      "  copying src\\ecos\\__init__.py -> build\\lib.win-amd64-3.8\\ecos\n",
      "  running build_ext\n",
      "  building '_ecos' extension\n",
      "  error: Microsoft Visual C++ 14.0 or greater is required. Get it with \"Microsoft C++ Build Tools\": https://visualstudio.microsoft.com/visual-cpp-build-tools/\n",
      "  ----------------------------------------\n",
      "  ERROR: Failed building wheel for ecos\n",
      "  ERROR: Command errored out with exit status 1:\n",
      "   command: 'C:\\Users\\Dell\\anaconda3\\python.exe' 'C:\\Users\\Dell\\anaconda3\\lib\\site-packages\\pip\\_vendor\\pep517\\in_process\\_in_process.py' build_wheel 'C:\\Users\\Dell\\AppData\\Local\\Temp\\tmpue7vdpov'\n",
      "       cwd: C:\\Users\\Dell\\AppData\\Local\\Temp\\pip-install-_3mfwv_d\\scs_5c68d73f16f042e78ab90df3e63ffc03\n",
      "  Complete output (82 lines):\n",
      "  Namespace(blas64=False, extraverbose=False, float32=False, gpu=False, gpu_atrans=True, int32=False, scs=False)\n",
      "  running bdist_wheel\n",
      "  running build\n",
      "  running build_py\n",
      "  creating build\n",
      "  creating build\\lib.win-amd64-3.8\n",
      "  creating build\\lib.win-amd64-3.8\\scs\n",
      "  copying src\\__init__.py -> build\\lib.win-amd64-3.8\\scs\n",
      "  running build_ext\n",
      "  blas_mkl_info:\n",
      "    NOT AVAILABLE\n",
      "  blis_info:\n",
      "    NOT AVAILABLE\n",
      "  openblas_info:\n",
      "      library_dirs = ['C:\\\\projects\\\\numpy-wheels\\\\numpy\\\\build\\\\openblas']\n",
      "      libraries = ['openblas']\n",
      "      language = f77\n",
      "      define_macros = [('HAVE_CBLAS', None)]\n",
      "  blas_opt_info:\n",
      "      library_dirs = ['C:\\\\projects\\\\numpy-wheels\\\\numpy\\\\build\\\\openblas']\n",
      "      libraries = ['openblas']\n",
      "      language = f77\n",
      "      define_macros = [('HAVE_CBLAS', None)]\n",
      "  lapack_mkl_info:\n",
      "    NOT AVAILABLE\n",
      "  openblas_lapack_info:\n",
      "      library_dirs = ['C:\\\\projects\\\\numpy-wheels\\\\numpy\\\\build\\\\openblas']\n",
      "      libraries = ['openblas']\n",
      "      language = f77\n",
      "      define_macros = [('HAVE_CBLAS', None)]\n",
      "  lapack_opt_info:\n",
      "      library_dirs = ['C:\\\\projects\\\\numpy-wheels\\\\numpy\\\\build\\\\openblas']\n",
      "      libraries = ['openblas']\n",
      "      language = f77\n",
      "      define_macros = [('HAVE_CBLAS', None)]\n",
      "  Could not locate executable g77\n",
      "  Could not locate executable f77\n",
      "  Could not locate executable ifort\n",
      "  Could not locate executable ifl\n",
      "  Could not locate executable f90\n",
      "  Could not locate executable DF\n",
      "  Could not locate executable efl\n",
      "  Could not locate executable gfortran\n",
      "  Could not locate executable f95\n",
      "  Could not locate executable g95\n",
      "  Could not locate executable efort\n",
      "  Could not locate executable efc\n",
      "  Could not locate executable flang\n",
      "  don't know how to compile Fortran code on platform 'nt'\n",
      "  C:\\Users\\Dell\\AppData\\Local\\Temp\\pip-build-env-tcc1yj_0\\overlay\\Lib\\site-packages\\numpy\\distutils\\system_info.py:690: UserWarning:\n",
      "      Optimized (vendor) Blas libraries are not found.\n",
      "      Falls back to netlib Blas library which has worse performance.\n",
      "      A better performance should be easily gained by switching\n",
      "      Blas library.\n",
      "    self.calc_info()\n",
      "  C:\\Users\\Dell\\AppData\\Local\\Temp\\pip-build-env-tcc1yj_0\\overlay\\Lib\\site-packages\\numpy\\distutils\\system_info.py:690: UserWarning:\n",
      "      Blas (http://www.netlib.org/blas/) libraries not found.\n",
      "      Directories to search for the libraries can be specified in the\n",
      "      numpy/distutils/site.cfg file (section [blas]) or by setting\n",
      "      the BLAS environment variable.\n",
      "    self.calc_info()\n",
      "  C:\\Users\\Dell\\AppData\\Local\\Temp\\pip-build-env-tcc1yj_0\\overlay\\Lib\\site-packages\\numpy\\distutils\\system_info.py:690: UserWarning:\n",
      "      Blas (http://www.netlib.org/blas/) sources not found.\n",
      "      Directories to search for the sources can be specified in the\n",
      "      numpy/distutils/site.cfg file (section [blas_src]) or by setting\n",
      "      the BLAS_SRC environment variable.\n",
      "    self.calc_info()\n",
      "  C:\\Users\\Dell\\AppData\\Local\\Temp\\pip-build-env-tcc1yj_0\\overlay\\Lib\\site-packages\\numpy\\distutils\\system_info.py:1712: UserWarning:\n",
      "      Lapack (http://www.netlib.org/lapack/) libraries not found.\n",
      "      Directories to search for the libraries can be specified in the\n",
      "      numpy/distutils/site.cfg file (section [lapack]) or by setting\n",
      "      the LAPACK environment variable.\n",
      "    if getattr(self, '_calc_info_{}'.format(lapack))():\n",
      "  C:\\Users\\Dell\\AppData\\Local\\Temp\\pip-build-env-tcc1yj_0\\overlay\\Lib\\site-packages\\numpy\\distutils\\system_info.py:1712: UserWarning:\n",
      "      Lapack (http://www.netlib.org/lapack/) sources not found.\n",
      "      Directories to search for the sources can be specified in the\n",
      "      numpy/distutils/site.cfg file (section [lapack_src]) or by setting\n",
      "      the LAPACK_SRC environment variable.\n",
      "    if getattr(self, '_calc_info_{}'.format(lapack))():\n",
      "  {}\n",
      "  {}\n",
      "  error: Microsoft Visual C++ 14.0 or greater is required. Get it with \"Microsoft C++ Build Tools\": https://visualstudio.microsoft.com/visual-cpp-build-tools/\n",
      "  ----------------------------------------\n",
      "  ERROR: Failed building wheel for scs\n",
      "ERROR: Could not build wheels for scs, which is required to install pyproject.toml-based projects\n",
      "WARNING: Ignoring invalid distribution -yproj (c:\\users\\dell\\anaconda3\\lib\\site-packages)\n",
      "WARNING: Ignoring invalid distribution -yproj (c:\\users\\dell\\anaconda3\\lib\\site-packages)\n"
     ]
    }
   ],
   "source": [
    "!pip install cvxpy"
   ]
  },
  {
   "cell_type": "code",
   "execution_count": 32,
   "id": "04ec8fe6",
   "metadata": {},
   "outputs": [
    {
     "ename": "ModuleNotFoundError",
     "evalue": "No module named 'cvxpy'",
     "output_type": "error",
     "traceback": [
      "\u001b[1;31m---------------------------------------------------------------------------\u001b[0m",
      "\u001b[1;31mModuleNotFoundError\u001b[0m                       Traceback (most recent call last)",
      "\u001b[1;32m~\\AppData\\Local\\Temp/ipykernel_9068/917906623.py\u001b[0m in \u001b[0;36m<module>\u001b[1;34m\u001b[0m\n\u001b[1;32m----> 1\u001b[1;33m \u001b[1;32mimport\u001b[0m \u001b[0mcvxpy\u001b[0m \u001b[1;32mas\u001b[0m \u001b[0mcp\u001b[0m\u001b[1;33m\u001b[0m\u001b[1;33m\u001b[0m\u001b[0m\n\u001b[0m",
      "\u001b[1;31mModuleNotFoundError\u001b[0m: No module named 'cvxpy'"
     ]
    }
   ],
   "source": [
    "import cvxpy as cp"
   ]
  },
  {
   "cell_type": "code",
   "execution_count": 29,
   "id": "a7d5a429",
   "metadata": {},
   "outputs": [
    {
     "ename": "NameError",
     "evalue": "name 'cp' is not defined",
     "output_type": "error",
     "traceback": [
      "\u001b[1;31m---------------------------------------------------------------------------\u001b[0m",
      "\u001b[1;31mNameError\u001b[0m                                 Traceback (most recent call last)",
      "\u001b[1;32m~\\AppData\\Local\\Temp/ipykernel_9068/1247028918.py\u001b[0m in \u001b[0;36m<module>\u001b[1;34m\u001b[0m\n\u001b[1;32m----> 1\u001b[1;33m \u001b[0mx\u001b[0m\u001b[1;33m=\u001b[0m \u001b[0mcp\u001b[0m\u001b[1;33m.\u001b[0m\u001b[0mVariable\u001b[0m\u001b[1;33m(\u001b[0m\u001b[1;33m)\u001b[0m\u001b[1;33m\u001b[0m\u001b[1;33m\u001b[0m\u001b[0m\n\u001b[0m\u001b[0;32m      2\u001b[0m \u001b[0my\u001b[0m \u001b[1;33m=\u001b[0m \u001b[0mcp\u001b[0m\u001b[1;33m.\u001b[0m\u001b[0mVariable\u001b[0m\u001b[1;33m(\u001b[0m\u001b[1;33m)\u001b[0m\u001b[1;33m\u001b[0m\u001b[1;33m\u001b[0m\u001b[0m\n",
      "\u001b[1;31mNameError\u001b[0m: name 'cp' is not defined"
     ]
    }
   ],
   "source": [
    "x= cp.Variable()\n",
    "y = cp.Variable()"
   ]
  },
  {
   "cell_type": "code",
   "execution_count": null,
   "id": "96322f27",
   "metadata": {},
   "outputs": [],
   "source": [
    "objetive"
   ]
  }
 ],
 "metadata": {
  "kernelspec": {
   "display_name": "Python 3 (ipykernel)",
   "language": "python",
   "name": "python3"
  },
  "language_info": {
   "codemirror_mode": {
    "name": "ipython",
    "version": 3
   },
   "file_extension": ".py",
   "mimetype": "text/x-python",
   "name": "python",
   "nbconvert_exporter": "python",
   "pygments_lexer": "ipython3",
   "version": "3.8.8"
  }
 },
 "nbformat": 4,
 "nbformat_minor": 5
}
